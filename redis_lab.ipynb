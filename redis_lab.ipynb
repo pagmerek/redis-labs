{
 "cells": [
  {
   "cell_type": "markdown",
   "id": "5159452c-c626-4632-9e87-264637d112bf",
   "metadata": {},
   "source": [
    "## Instalacja"
   ]
  },
  {
   "cell_type": "code",
   "execution_count": 1,
   "id": "bd7b28f7-2995-4e9c-9193-9e2edba33f66",
   "metadata": {
    "scrolled": true
   },
   "outputs": [
    {
     "name": "stdout",
     "output_type": "stream",
     "text": [
      "Collecting redis\n",
      "  Downloading redis-4.5.5-py3-none-any.whl (240 kB)\n",
      "\u001b[2K     \u001b[38;2;114;156;31m━━━━━━━━━━━━━━━━━━━━━━━━━━━━━━━━━━━━━━━\u001b[0m \u001b[32m240.3/240.3 kB\u001b[0m \u001b[31m1.7 MB/s\u001b[0m eta \u001b[36m0:00:00\u001b[0m[36m0:00:01\u001b[0mm eta \u001b[36m0:00:01\u001b[0m\n",
      "\u001b[?25hInstalling collected packages: redis\n",
      "Successfully installed redis-4.5.5\n",
      "\n",
      "\u001b[1m[\u001b[0m\u001b[34;49mnotice\u001b[0m\u001b[1;39;49m]\u001b[0m\u001b[39;49m A new release of pip is available: \u001b[0m\u001b[31;49m23.0.1\u001b[0m\u001b[39;49m -> \u001b[0m\u001b[32;49m23.1.2\u001b[0m\n",
      "\u001b[1m[\u001b[0m\u001b[34;49mnotice\u001b[0m\u001b[1;39;49m]\u001b[0m\u001b[39;49m To update, run: \u001b[0m\u001b[32;49mpython3.11 -m pip install --upgrade pip\u001b[0m\n"
     ]
    }
   ],
   "source": [
    "!pip install redis"
   ]
  },
  {
   "cell_type": "code",
   "execution_count": 4,
   "id": "daf099da-ba30-4e0c-8458-2036d9613722",
   "metadata": {},
   "outputs": [],
   "source": [
    "import redis\n",
    "import time"
   ]
  },
  {
   "cell_type": "code",
   "execution_count": 3,
   "id": "db422150-bf4d-4ec6-ba72-5b5f4478dcdd",
   "metadata": {},
   "outputs": [],
   "source": [
    "conn = redis.Redis(host='localhost', port=6379, decode_responses=True)"
   ]
  },
  {
   "cell_type": "markdown",
   "id": "3d9ea149-5d80-49f7-9a35-951c14d2d5d9",
   "metadata": {},
   "source": [
    "## Dodawanie użytkowników i przedmiotów"
   ]
  },
  {
   "cell_type": "code",
   "execution_count": 23,
   "id": "8c3dfa04-e2fd-46e6-85eb-b3180d539d08",
   "metadata": {},
   "outputs": [],
   "source": [
    "def add_user(conn, user_id,name, funds):\n",
    "    user = f'users:{user_id}'\n",
    "    conn.hset(user, 'name', name)\n",
    "    conn.hset(user, 'funds', funds)\n",
    "    return True\n",
    "\n",
    "def add_item(conn, user_id, item):\n",
    "    if conn.hgetall(f'users:{user_id}'):\n",
    "        inventory = f'inventory:{user_id}'\n",
    "        conn.sadd(inventory, item)\n",
    "        return True\n",
    "    return False\n",
    "    "
   ]
  },
  {
   "cell_type": "markdown",
   "id": "024f735d-1fd6-43e2-a547-9443e4e3a701",
   "metadata": {},
   "source": [
    "## Wystawianie przedmiotów na sprzedaż"
   ]
  },
  {
   "cell_type": "code",
   "execution_count": 49,
   "id": "3f884a94-6a82-4f70-a4e1-eb11313817dc",
   "metadata": {},
   "outputs": [],
   "source": [
    "def list_item(conn, item_id, seller_id, price):\n",
    "    inventory = f'inventory:{seller_id}'\n",
    "    item = f'{item_id}.{seller_id}'\n",
    "    end = time.time() + 5\n",
    "    pipe = conn.pipeline()\n",
    "\n",
    "    while time.time() < end:\n",
    "        try:\n",
    "            pipe.watch(inventory)\n",
    "            if not pipe.sismember(inventory, item_id):\n",
    "                pipe.unwatch()\n",
    "                return None\n",
    "            pipe.multi()\n",
    "            pipe.zadd(\"market:\", {item: price})\n",
    "            pipe.srem(inventory, item_id)\n",
    "            pipe.execute()\n",
    "            return True\n",
    "        except redis.exceptions.WatchError:\n",
    "            print(\"watch failed\")\n",
    "    return False\n",
    "    "
   ]
  },
  {
   "cell_type": "markdown",
   "id": "ad49b474-a5a8-416b-9c89-d5c22437529f",
   "metadata": {},
   "source": [
    "## Sprzedaż"
   ]
  },
  {
   "cell_type": "code",
   "execution_count": 94,
   "id": "aada1cdf-8c52-4bec-be42-ad3eff785f75",
   "metadata": {},
   "outputs": [],
   "source": [
    "def purchase_item(conn, buyer_id, item, seller_id, lprice):\n",
    "    buyer = f'users:{buyer_id}'\n",
    "    seller = f'users:{seller_id}'\n",
    "    item = f'{item}.{seller_id}'\n",
    "    inventory = f'inventory:{buyer_id}'\n",
    "    end = time.time() + 10\n",
    "    pipe = conn.pipeline()\n",
    "\n",
    "    while time.time() < end:\n",
    "        try:\n",
    "            pipe.watch(\"market:\", buyer)\n",
    "\n",
    "            price = pipe.zscore('market:', item)\n",
    "            funds = int(pipe.hget(buyer, 'funds'))\n",
    "            if price != lprice or price > funds:\n",
    "                pipe.unwatch()\n",
    "                return False\n",
    "            pipe.multi\n",
    "            pipe.hincrby(seller, 'funds', int(price))\n",
    "            pipe.hincrby(buyer, 'funds', int(-price))\n",
    "            pipe.sadd(inventory, item)\n",
    "            pipe.zrem(\"market:\", item)\n",
    "            pipe.execute()\n",
    "            return True\n",
    "        except redis.exceptions.WatchError:\n",
    "            print(\"watch failed\")\n",
    "    return True\n"
   ]
  },
  {
   "cell_type": "code",
   "execution_count": 86,
   "id": "0ee30252-cb27-4b13-a661-0ac543905548",
   "metadata": {},
   "outputs": [
    {
     "data": {
      "text/plain": [
       "True"
      ]
     },
     "execution_count": 86,
     "metadata": {},
     "output_type": "execute_result"
    }
   ],
   "source": [
    "add_user(conn, 1, \"Piotr\", 300)\n",
    "add_user(conn, 2, \"Grześ\", 400)\n",
    "add_user(conn, 3, \"Ania\", 500)"
   ]
  },
  {
   "cell_type": "code",
   "execution_count": 87,
   "id": "a568291b-ae55-4675-90fa-f1a0658b47bb",
   "metadata": {},
   "outputs": [
    {
     "data": {
      "text/plain": [
       "{'name': 'Ania', 'funds': '500'}"
      ]
     },
     "execution_count": 87,
     "metadata": {},
     "output_type": "execute_result"
    }
   ],
   "source": [
    "conn.hgetall('users:3')"
   ]
  },
  {
   "cell_type": "code",
   "execution_count": 88,
   "id": "8f003be4-57f4-4c58-a58f-5fa6623583bc",
   "metadata": {},
   "outputs": [
    {
     "data": {
      "text/plain": [
       "True"
      ]
     },
     "execution_count": 88,
     "metadata": {},
     "output_type": "execute_result"
    }
   ],
   "source": [
    "add_item(conn, 1, 'książkaCPP')\n",
    "add_item(conn, 2, 'książkaJS')\n",
    "add_item(conn, 3, 'książkaRust')"
   ]
  },
  {
   "cell_type": "code",
   "execution_count": 89,
   "id": "1698df3c-e499-4620-8330-0632138c3dd1",
   "metadata": {},
   "outputs": [
    {
     "data": {
      "text/plain": [
       "True"
      ]
     },
     "execution_count": 89,
     "metadata": {},
     "output_type": "execute_result"
    }
   ],
   "source": [
    "list_item(conn, 'książkaRust', 3, 500)\n",
    "list_item(conn, 'książkaCPP', 1, 450)\n"
   ]
  },
  {
   "cell_type": "code",
   "execution_count": 90,
   "id": "c51985f9-331e-41d7-82ff-ec50dbe99f8d",
   "metadata": {},
   "outputs": [
    {
     "data": {
      "text/plain": [
       "[('książkaCPP.1', 450.0), ('książkaRust.3', 500.0)]"
      ]
     },
     "execution_count": 90,
     "metadata": {},
     "output_type": "execute_result"
    }
   ],
   "source": [
    "conn.zrange('market:', 0, -1, withscores=True)"
   ]
  },
  {
   "cell_type": "code",
   "execution_count": 96,
   "id": "f1e46217-9d32-4200-961e-b55711653b4a",
   "metadata": {},
   "outputs": [
    {
     "data": {
      "text/plain": [
       "False"
      ]
     },
     "execution_count": 96,
     "metadata": {},
     "output_type": "execute_result"
    }
   ],
   "source": [
    "purchase_item(conn, 3, 'książkaCPP', 1, 450)"
   ]
  },
  {
   "cell_type": "code",
   "execution_count": 104,
   "id": "588d8e76-7a65-41df-8df5-1d6e7c529cdd",
   "metadata": {},
   "outputs": [
    {
     "data": {
      "text/plain": [
       "{'name': 'Ania', 'funds': '50'}"
      ]
     },
     "execution_count": 104,
     "metadata": {},
     "output_type": "execute_result"
    }
   ],
   "source": [
    "conn.hgetall('users:3')"
   ]
  },
  {
   "cell_type": "code",
   "execution_count": 105,
   "id": "75ca4d67-7c9e-47eb-bf37-d3e62473189e",
   "metadata": {},
   "outputs": [
    {
     "data": {
      "text/plain": [
       "{'name': 'Piotr', 'funds': '750'}"
      ]
     },
     "execution_count": 105,
     "metadata": {},
     "output_type": "execute_result"
    }
   ],
   "source": [
    "conn.hgetall('users:1')"
   ]
  },
  {
   "cell_type": "code",
   "execution_count": 98,
   "id": "f3cd3124-ca54-4507-a95e-1f31074e5aba",
   "metadata": {},
   "outputs": [
    {
     "data": {
      "text/plain": [
       "{'książkaCPP.1'}"
      ]
     },
     "execution_count": 98,
     "metadata": {},
     "output_type": "execute_result"
    }
   ],
   "source": [
    "conn.smembers('inventory:3')"
   ]
  },
  {
   "cell_type": "markdown",
   "id": "95ca6ccb-2e10-4964-a182-0cae15863994",
   "metadata": {},
   "source": [
    "## Zadanie"
   ]
  },
  {
   "cell_type": "markdown",
   "id": "4e59f811-695a-456c-878a-5133510da4ae",
   "metadata": {},
   "source": [
    "Napisać funkcję `unlist_item()`, która wraca przedmiot spowrotem do ekwipunku użytkownika"
   ]
  },
  {
   "cell_type": "code",
   "execution_count": 102,
   "id": "360980fb-da81-4864-9828-8eaa1e1c2046",
   "metadata": {},
   "outputs": [],
   "source": [
    "def unlist_item(conn, user_id, item):\n",
    "    raise NotImplementedError"
   ]
  },
  {
   "cell_type": "code",
   "execution_count": 103,
   "id": "eedab537-c634-4cf8-a5bc-7ea0502e3690",
   "metadata": {},
   "outputs": [
    {
     "ename": "NotImplementedError",
     "evalue": "",
     "output_type": "error",
     "traceback": [
      "\u001b[0;31m---------------------------------------------------------------------------\u001b[0m",
      "\u001b[0;31mNotImplementedError\u001b[0m                       Traceback (most recent call last)",
      "Cell \u001b[0;32mIn[103], line 1\u001b[0m\n\u001b[0;32m----> 1\u001b[0m \u001b[43munlist_item\u001b[49m\u001b[43m(\u001b[49m\u001b[43mconn\u001b[49m\u001b[43m,\u001b[49m\u001b[43m \u001b[49m\u001b[38;5;241;43m1\u001b[39;49m\u001b[43m,\u001b[49m\u001b[38;5;241;43m4\u001b[39;49m\u001b[43m)\u001b[49m\n",
      "Cell \u001b[0;32mIn[102], line 2\u001b[0m, in \u001b[0;36munlist_item\u001b[0;34m(conn, user_id, item)\u001b[0m\n\u001b[1;32m      1\u001b[0m \u001b[38;5;28;01mdef\u001b[39;00m \u001b[38;5;21munlist_item\u001b[39m(conn, user_id, item):\n\u001b[0;32m----> 2\u001b[0m     \u001b[38;5;28;01mraise\u001b[39;00m \u001b[38;5;167;01mNotImplementedError\u001b[39;00m\n",
      "\u001b[0;31mNotImplementedError\u001b[0m: "
     ]
    }
   ],
   "source": [
    "unlist_item(conn, 1,4)"
   ]
  },
  {
   "cell_type": "code",
   "execution_count": 107,
   "id": "1a04d752-6dc4-429c-9743-2af757776af0",
   "metadata": {},
   "outputs": [
    {
     "data": {
      "text/plain": [
       "True"
      ]
     },
     "execution_count": 107,
     "metadata": {},
     "output_type": "execute_result"
    }
   ],
   "source": [
    "unlist_item(conn, 3, \"książkaRust\")"
   ]
  },
  {
   "cell_type": "code",
   "execution_count": 108,
   "id": "389de31c-d14f-4487-ab86-c3198d9a0b92",
   "metadata": {},
   "outputs": [
    {
     "data": {
      "text/plain": [
       "[]"
      ]
     },
     "execution_count": 108,
     "metadata": {},
     "output_type": "execute_result"
    }
   ],
   "source": [
    "conn.zrange('market:', 0, -1, withscores=True)"
   ]
  },
  {
   "cell_type": "code",
   "execution_count": 109,
   "id": "bb4d6e1c-1adc-4309-9832-a1b3bb45b22a",
   "metadata": {},
   "outputs": [
    {
     "data": {
      "text/plain": [
       "{'książkaCPP.1', 'książkaRust'}"
      ]
     },
     "execution_count": 109,
     "metadata": {},
     "output_type": "execute_result"
    }
   ],
   "source": [
    "conn.smembers('inventory:3')"
   ]
  },
  {
   "cell_type": "code",
   "execution_count": null,
   "id": "952e947f-3b22-41ba-8e31-e9e14e21fe70",
   "metadata": {},
   "outputs": [],
   "source": []
  }
 ],
 "metadata": {
  "kernelspec": {
   "display_name": "Python 3 (ipykernel)",
   "language": "python",
   "name": "python3"
  },
  "language_info": {
   "codemirror_mode": {
    "name": "ipython",
    "version": 3
   },
   "file_extension": ".py",
   "mimetype": "text/x-python",
   "name": "python",
   "nbconvert_exporter": "python",
   "pygments_lexer": "ipython3",
   "version": "3.11.3"
  }
 },
 "nbformat": 4,
 "nbformat_minor": 5
}
